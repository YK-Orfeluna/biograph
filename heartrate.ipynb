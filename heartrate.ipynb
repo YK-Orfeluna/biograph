{
 "cells": [
  {
   "cell_type": "markdown",
   "metadata": {},
   "source": [
    "# Pythonを使って心拍解析を行う\n",
    "\n",
    "\n",
    "## 用語\n",
    "* BPM(Beat Per Minute): 1分あたりの鼓動回数 \n",
    "* LF(0.05Hz-0.15Hz): 低周波成分（血圧変化＝メイヤー波を信号源とする変動波）で，副交感神経が緊張（活性化）している場合のみに現れる\n",
    "* HF(0.15Hz-0.40Hz): 高周波成分（呼吸を信号源とする変動波）で，交感神経が緊張している時も副交感神経が緊張している時も現れる\n",
    "* RRI(R-R Interval)：心拍鼓動の間隔＝前回の鼓動から次の鼓動までの時間（ミリ秒）\n",
    "* 交感神経: \n",
    "* 副交感神経: \n",
    "* PSD(PowerSpectralDensity): 時系列データを構成する波の周波数成分を現す\n",
    "\n",
    "\n",
    " ## 心拍解析を行う\n",
    " x軸に経過時間，y軸にRRIをとった変動波を作成して，そのPSDからLF/HF比を求める\n",
    " \n",
    " ## [Scipy](https://docs.scipy.org)のパッケージにPSDを求めることができる関数がある\n",
    " scipyには主に[\"Periodogram法\"](https://docs.scipy.org/doc/scipy-0.19.0/reference/generated/scipy.signal.lombscargle.html), [\"Welch法\"](https://docs.scipy.org/doc/scipy-0.19.0/reference/generated/scipy.signal.welch.html), [\"Lomb-scargle法\"](https://docs.scipy.org/doc/scipy-0.19.0/reference/generated/scipy.signal.lombscargle.html)が実装されている<br>\n",
    " x軸は総経過時間である以上，均等にプロットが行われるわけではないため，\"Lomb-scargle法\"が適当（多分）\n",
    " \n",
    " \n",
    " ## 実装してみる"
   ]
  },
  {
   "cell_type": "code",
   "execution_count": 4,
   "metadata": {},
   "outputs": [],
   "source": [
    "# 必要なパッケージをimportする\n",
    "import numpy as np\n",
    "from scipy.signal import lombscargle\n",
    "import matplotlib.pyplot as plt\n",
    "% matplotlib inline"
   ]
  },
  {
   "cell_type": "code",
   "execution_count": 102,
   "metadata": {},
   "outputs": [
    {
     "name": "stdout",
     "output_type": "stream",
     "text": [
      "[ 941.  935.  932. ...,  942.  912.  921.]\n"
     ]
    }
   ],
   "source": [
    "# ここでは事前に計測したRRIを用意します\n",
    "#RRI = np.array([], dtype=np.float64)\n",
    "\n",
    "# 900-950の間でランダムに数を出して見る\n",
    "RRI = np.round(np.random.rand(10000)*50+900, 0)\n",
    "RRI = RRI.astype(np.float64)\n",
    "\n",
    "print(RRI)"
   ]
  },
  {
   "cell_type": "code",
   "execution_count": 104,
   "metadata": {},
   "outputs": [
    {
     "data": {
      "text/plain": [
       "<matplotlib.text.Text at 0x1151482e8>"
      ]
     },
     "execution_count": 104,
     "metadata": {},
     "output_type": "execute_result"
    },
    {
     "data": {
      "image/png": "[encoded data removed]",
      "text/plain": [
       "<matplotlib.figure.Figure at 0x116e44b70>"
      ]
     },
     "metadata": {},
     "output_type": "display_data"
    }
   ],
   "source": [
    "# x軸に総合経過時間，y軸にRRIをとって変動波を作成して，プロットする\n",
    "\n",
    "# 累積和＝経過時間となる（ただし最初は0であってほしいので，そうなるように処理する）\n",
    "x = RRI.cumsum()-RRI[0]\n",
    "y = RRI\n",
    "\n",
    "plt.plot(x, y)\n",
    "plt.xlabel(\"passed-time(mill sec.)\")\n",
    "plt.ylabel(\"RRI\")"
   ]
  },
  {
   "cell_type": "code",
   "execution_count": 105,
   "metadata": {},
   "outputs": [
    {
     "name": "stdout",
     "output_type": "stream",
     "text": [
      "[ 0.05        0.08888889  0.12777778  0.16666667  0.20555556  0.24444444\n",
      "  0.28333333  0.32222222  0.36111111  0.4       ] 3\n",
      "[ 12.62067616  14.11718775  17.80355257  12.96715193  15.25999764\n",
      "  14.07772622  14.82199396  15.6323388   34.49598061  11.69724346]\n"
     ]
    }
   ],
   "source": [
    "# lombscargle関数でPSDを求める\n",
    "\n",
    "# 周波数帯域\n",
    "LF_MIN = 0.05\n",
    "LF_MAX = 0.15\n",
    "HF_MIN = 0.15\n",
    "HF_MAX = 0.4\n",
    "\n",
    "# 検出点の数\n",
    "# 増やしても結果は大きく変わらないので，計算コストを考えるとこれくらいが妥当\n",
    "NOUT = 10\n",
    "\n",
    "# 検出したい周波数帯域\n",
    "F = np.linspace(LF_MIN, HF_MAX, NOUT)\n",
    "\n",
    "# LFとHFをわけるための敷居値\n",
    "L = np.where(F<LF_MAX)[0][-1] + 1\n",
    "print(F, L)\n",
    "\n",
    "pgram = lombscargle(x, y, F)\n",
    "\n",
    "# 正規化する\n",
    "normval = x.shape[0]\n",
    "pgram = np.sqrt(4*(pgram/normval))\n",
    "\n",
    "print(pgram)"
   ]
  },
  {
   "cell_type": "code",
   "execution_count": 106,
   "metadata": {},
   "outputs": [
    {
     "data": {
      "text/plain": [
       "<matplotlib.text.Text at 0x115bc52b0>"
      ]
     },
     "execution_count": 106,
     "metadata": {},
     "output_type": "execute_result"
    },
    {
     "data": {
      "image/png": "[encoded data removed]",
      "text/plain": [
       "<matplotlib.figure.Figure at 0x1150dd7b8>"
      ]
     },
     "metadata": {},
     "output_type": "display_data"
    }
   ],
   "source": [
    "# 計算したPSDをプロットしてみる\n",
    "\n",
    "plt.plot(F, pgram, color=\"r\")\n",
    "plt.xlabel(\"Frquency\")"
   ]
  },
  {
   "cell_type": "code",
   "execution_count": 107,
   "metadata": {},
   "outputs": [
    {
     "name": "stdout",
     "output_type": "stream",
     "text": [
      "44.5414164732 118.952432627\n",
      "0.272434814632 0.727565185368\n",
      "LF/HF = 0.374447293673\n"
     ]
    }
   ],
   "source": [
    "# LF/HF比を求める\n",
    "\n",
    "# PSDの平均を求める\n",
    "# 積算なのか平均なのかは諸説あり？\n",
    "if 0 :\n",
    "    M_lf = np.mean(pgram[:L])\n",
    "    M_hf = np.mean(pgram[L:])\n",
    "else :\n",
    "    M_lf = np.sum(pgram[:L])\n",
    "    M_hf = np.sum(pgram[L:])\n",
    "print(M_lf , M_hf)\n",
    "\n",
    "total = M_lf + M_hf\n",
    "lf = M_lf / total\n",
    "hf =M_hf / total\n",
    "\n",
    "print(lf, hf)\n",
    "print(\"LF/HF = %s\" %(lf/hf))"
   ]
  },
  {
   "cell_type": "code",
   "execution_count": 108,
   "metadata": {},
   "outputs": [
    {
     "data": {
      "text/plain": [
       "(0.0, 1.0)"
      ]
     },
     "execution_count": 108,
     "metadata": {},
     "output_type": "execute_result"
    },
    {
     "data": {
      "image/png": "[encoded data removed]",
      "text/plain": [
       "<matplotlib.figure.Figure at 0x1150334a8>"
      ]
     },
     "metadata": {},
     "output_type": "display_data"
    }
   ],
   "source": [
    "# LFとHFをプロットしてみる\n",
    "\n",
    "plt.bar([1, 2], [lf, hf], tick_label=[\"LF\", \"HF\"], color=[\"b\", \"r\"])\n",
    "plt.ylim(0.0, 1.0)"
   ]
  },
  {
   "cell_type": "code",
   "execution_count": null,
   "metadata": {
    "collapsed": true
   },
   "outputs": [],
   "source": []
  }
 ],
 "metadata": {
  "kernelspec": {
   "display_name": "Python 3",
   "language": "python",
   "name": "python3"
  },
  "language_info": {
   "codemirror_mode": {
    "name": "ipython",
    "version": 3
   },
   "file_extension": ".py",
   "mimetype": "text/x-python",
   "name": "python",
   "nbconvert_exporter": "python",
   "pygments_lexer": "ipython3",
   "version": "3.5.3"
  }
 },
 "nbformat": 4,
 "nbformat_minor": 2
}
